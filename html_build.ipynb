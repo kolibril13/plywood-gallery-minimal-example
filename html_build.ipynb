{
 "cells": [
  {
   "cell_type": "markdown",
   "metadata": {},
   "source": [
    "# Second step of setting up your plywood-gallery! 🪵🪓\n",
    "\n",
    "Now we want to set up the  `index.html` document.  \n",
    "\n",
    "An html template is shipped with the plywood gallery as a jinja2 template.   \n",
    "\n",
    "And now it is time to set up your project details.  \n",
    "\n",
    "This needs two steps:\n",
    "1.  go to `html_configuration.yaml` and paste all your project information in the yaml format.  \n",
    "2.  come back to this notebook and run the `generate_html_from_jinja2_and_json` command in the below cell.\n",
    "\n",
    "Note:  \n",
    "\n",
    "From time to time, a new html template will be shipped with the plywood gallery. In this case you want to update, just run the command `generate_html_from_jinja2_and_yaml` again, and you don't have to setup things again.\n",
    "\n",
    "But why do we use yaml and not json?  \n",
    "yaml is the better format for providing html snippets, as one can both use the \" and the ' characters in strings."
   ]
  },
  {
   "cell_type": "code",
   "execution_count": 2,
   "metadata": {},
   "outputs": [
    {
     "name": "stdout",
     "output_type": "stream",
     "text": [
      "Sucessfuly read gallery_config.yaml\n",
      "Sucessfuly created index.html\n",
      "Now you can start crafting your examples with the file gallery.ipynb and see the results in `index.html`!🚪 \n",
      "Just opening index.html in the browser won't load the interactive parts, so better use `from plywood_gallery import open_webpage; open_webpage()` or in VS Code select 'Live Preview: Show Preview' in VSCode to start the page with a server\n"
     ]
    }
   ],
   "source": [
    "from plywood_gallery import generate_html_from_jinja2_and_yaml\n",
    "generate_html_from_jinja2_and_yaml(yaml_file=\"gallery_config.yaml\", index_html_file=\"index.html\")"
   ]
  },
  {
   "cell_type": "code",
   "execution_count": null,
   "metadata": {},
   "outputs": [],
   "source": []
  }
 ],
 "metadata": {
  "interpreter": {
   "hash": "2952ffede85d5ee814e7d7d53bb189c2d6659c3837bb58400800b4ce3939b697"
  },
  "kernelspec": {
   "display_name": "Python 3.9.10 ('plywood_gallery_env': venv)",
   "language": "python",
   "name": "python3"
  },
  "language_info": {
   "codemirror_mode": {
    "name": "ipython",
    "version": 3
   },
   "file_extension": ".py",
   "mimetype": "text/x-python",
   "name": "python",
   "nbconvert_exporter": "python",
   "pygments_lexer": "ipython3",
   "version": "3.9.12"
  },
  "orig_nbformat": 4
 },
 "nbformat": 4,
 "nbformat_minor": 2
}
